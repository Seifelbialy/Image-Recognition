{
 "cells": [
  {
   "cell_type": "markdown",
   "id": "b02a7e77",
   "metadata": {},
   "source": [
    "# Load Fashion-MNIST Dataset\n"
   ]
  },
  {
   "cell_type": "code",
   "execution_count": 1,
   "id": "6eecaa8e",
   "metadata": {
    "scrolled": true
   },
   "outputs": [
    {
     "name": "stdout",
     "output_type": "stream",
     "text": [
      "Data Shape: (70000, 784)\n",
      "Labels Shape: (70000,)\n"
     ]
    },
    {
     "data": {
      "image/png": "[encoded data removed]",
      "text/plain": [
       "<Figure size 1000x1000 with 9 Axes>"
      ]
     },
     "metadata": {},
     "output_type": "display_data"
    }
   ],
   "source": [
    "from sklearn.datasets import fetch_openml\n",
    "import numpy as np\n",
    "import matplotlib.pyplot as plt\n",
    "\n",
    "fashion_mnist = fetch_openml(name=\"Fashion-MNIST\", version=1, as_frame=False)\n",
    "\n",
    "X, y = fashion_mnist.data, fashion_mnist.target\n",
    "\n",
    "y = y.astype(int)\n",
    "\n",
    "print(f\"Data Shape: {X.shape}\")\n",
    "print(f\"Labels Shape: {y.shape}\")\n",
    "\n",
    "plt.figure(figsize=(10, 10))\n",
    "for i in range(9):\n",
    "    plt.subplot(3, 3, i + 1)\n",
    "    plt.imshow(X[i].reshape(28, 28), cmap='gray')\n",
    "    plt.title(f\"Label: {y[i]}\")\n",
    "    plt.axis('off')\n",
    "plt.show()\n"
   ]
  },
  {
   "cell_type": "markdown",
   "id": "66727184",
   "metadata": {},
   "source": [
    "# Preprocessing"
   ]
  },
  {
   "cell_type": "code",
   "execution_count": 2,
   "id": "4e7a1599",
   "metadata": {},
   "outputs": [
    {
     "name": "stdout",
     "output_type": "stream",
     "text": [
      "Training Data Shape: (56000, 784)\n",
      "Test Data Shape: (14000, 784)\n"
     ]
    },
    {
     "data": {
      "text/plain": [
       "['scaler.pkl']"
      ]
     },
     "execution_count": 2,
     "metadata": {},
     "output_type": "execute_result"
    }
   ],
   "source": [
    "from sklearn.model_selection import train_test_split\n",
    "from sklearn.preprocessing import StandardScaler\n",
    "import joblib\n",
    "\n",
    "\n",
    "X = X / 255.0\n",
    "\n",
    "X_train, X_test, y_train, y_test = train_test_split(X, y, test_size=0.2, random_state=42)\n",
    "\n",
    "scaler = StandardScaler()\n",
    "X_train = scaler.fit_transform(X_train)\n",
    "X_test = scaler.transform(X_test)\n",
    "\n",
    "print(f\"Training Data Shape: {X_train.shape}\")\n",
    "print(f\"Test Data Shape: {X_test.shape}\")\n",
    "joblib.dump(scaler, 'scaler.pkl')\n",
    "\n"
   ]
  },
  {
   "cell_type": "markdown",
   "id": "830697ab",
   "metadata": {},
   "source": [
    "# Random Forest Model\n"
   ]
  },
  {
   "cell_type": "code",
   "execution_count": 4,
   "id": "c8a13c9d",
   "metadata": {},
   "outputs": [
    {
     "name": "stdout",
     "output_type": "stream",
     "text": [
      "Random Forest Accuracy: 0.88\n",
      "Random Forest Classification Report:\n",
      "               precision    recall  f1-score   support\n",
      "\n",
      "           0       0.82      0.86      0.84      1394\n",
      "           1       0.99      0.96      0.98      1402\n",
      "           2       0.79      0.82      0.81      1407\n",
      "           3       0.88      0.92      0.90      1449\n",
      "           4       0.77      0.84      0.81      1357\n",
      "           5       0.97      0.96      0.96      1449\n",
      "           6       0.74      0.59      0.66      1407\n",
      "           7       0.93      0.94      0.94      1359\n",
      "           8       0.96      0.98      0.97      1342\n",
      "           9       0.95      0.96      0.95      1434\n",
      "\n",
      "    accuracy                           0.88     14000\n",
      "   macro avg       0.88      0.88      0.88     14000\n",
      "weighted avg       0.88      0.88      0.88     14000\n",
      "\n"
     ]
    }
   ],
   "source": [
    "from sklearn.ensemble import RandomForestClassifier\n",
    "from sklearn.metrics import classification_report, accuracy_score\n",
    "\n",
    "rf_model = RandomForestClassifier(n_estimators=100, random_state=42)\n",
    "rf_model.fit(X_train, y_train)\n",
    "\n",
    "y_pred_rf = rf_model.predict(X_test)\n",
    "print(f\"Random Forest Accuracy: {accuracy_score(y_test, y_pred_rf):.2f}\")\n",
    "print(\"Random Forest Classification Report:\\n\", classification_report(y_test, y_pred_rf))\n"
   ]
  },
  {
   "cell_type": "markdown",
   "id": "a1ab8c61",
   "metadata": {},
   "source": [
    "# Hyperparameter Tuning for random forest"
   ]
  },
  {
   "cell_type": "code",
   "execution_count": 10,
   "id": "c045ee9a",
   "metadata": {
    "scrolled": true
   },
   "outputs": [
    {
     "name": "stdout",
     "output_type": "stream",
     "text": [
      "Fitting 3 folds for each of 10 candidates, totalling 30 fits\n",
      "[CV] END max_depth=20, min_samples_split=5, n_estimators=142; total time= 1.4min\n",
      "[CV] END max_depth=20, min_samples_split=5, n_estimators=142; total time= 1.3min\n",
      "[CV] END max_depth=20, min_samples_split=5, n_estimators=142; total time= 1.2min\n",
      "[CV] END max_depth=20, min_samples_split=4, n_estimators=121; total time= 1.0min\n",
      "[CV] END max_depth=20, min_samples_split=4, n_estimators=121; total time= 1.0min\n",
      "[CV] END max_depth=20, min_samples_split=4, n_estimators=121; total time= 1.0min\n",
      "[CV] END max_depth=None, min_samples_split=6, n_estimators=152; total time= 2.0min\n",
      "[CV] END max_depth=None, min_samples_split=6, n_estimators=152; total time= 2.2min\n",
      "[CV] END max_depth=None, min_samples_split=6, n_estimators=152; total time= 2.2min\n",
      "[CV] END max_depth=10, min_samples_split=4, n_estimators=124; total time=  59.4s\n",
      "[CV] END max_depth=10, min_samples_split=4, n_estimators=124; total time=  59.0s\n",
      "[CV] END max_depth=10, min_samples_split=4, n_estimators=124; total time=  58.8s\n",
      "[CV] END max_depth=20, min_samples_split=9, n_estimators=166; total time= 2.2min\n",
      "[CV] END max_depth=20, min_samples_split=9, n_estimators=166; total time= 2.2min\n",
      "[CV] END max_depth=20, min_samples_split=9, n_estimators=166; total time= 2.2min\n",
      "[CV] END max_depth=30, min_samples_split=9, n_estimators=180; total time= 2.5min\n",
      "[CV] END max_depth=30, min_samples_split=9, n_estimators=180; total time= 2.5min\n",
      "[CV] END max_depth=30, min_samples_split=9, n_estimators=180; total time= 2.5min\n",
      "[CV] END .max_depth=10, min_samples_split=6, n_estimators=51; total time=  24.2s\n",
      "[CV] END .max_depth=10, min_samples_split=6, n_estimators=51; total time=  24.7s\n",
      "[CV] END .max_depth=10, min_samples_split=6, n_estimators=51; total time=  24.3s\n",
      "[CV] END .max_depth=30, min_samples_split=5, n_estimators=87; total time= 1.2min\n",
      "[CV] END .max_depth=30, min_samples_split=5, n_estimators=87; total time= 1.2min\n",
      "[CV] END .max_depth=30, min_samples_split=5, n_estimators=87; total time= 1.2min\n",
      "[CV] END .max_depth=10, min_samples_split=9, n_estimators=70; total time=  32.8s\n",
      "[CV] END .max_depth=10, min_samples_split=9, n_estimators=70; total time=  33.9s\n",
      "[CV] END .max_depth=10, min_samples_split=9, n_estimators=70; total time=  33.3s\n",
      "[CV] END max_depth=None, min_samples_split=5, n_estimators=107; total time= 1.5min\n",
      "[CV] END max_depth=None, min_samples_split=5, n_estimators=107; total time= 1.6min\n",
      "[CV] END max_depth=None, min_samples_split=5, n_estimators=107; total time= 1.5min\n",
      "Best Parameters for Random Forest: {'max_depth': None, 'min_samples_split': 6, 'n_estimators': 152}\n",
      "Tuned Random Forest Accuracy: 0.88\n"
     ]
    }
   ],
   "source": [
    "from sklearn.model_selection import RandomizedSearchCV\n",
    "from scipy.stats import randint\n",
    "\n",
    "# تعريف قيم المعلمات العشوائية\n",
    "param_dist = {\n",
    "    'n_estimators': randint(50, 200),\n",
    "    'max_depth': [None, 10, 20, 30],\n",
    "    'min_samples_split': randint(2, 10)\n",
    "}\n",
    "\n",
    "# تعريف RandomizedSearchCV\n",
    "random_search = RandomizedSearchCV(\n",
    "    RandomForestClassifier(random_state=42),\n",
    "    param_distributions=param_dist,\n",
    "    n_iter=10,  # عدد التركيبات العشوائية التي سيتم تجربتها\n",
    "    cv=3,\n",
    "    verbose=2,\n",
    "    random_state=42\n",
    ")\n",
    "\n",
    "# تدريب النموذج\n",
    "random_search.fit(X_train, y_train)\n",
    "\n",
    "# أفضل معلمات بعد العشوائي\n",
    "best_model = random_search.best_estimator_\n",
    "y_pred_rf_best = best_model.predict(X_test)\n",
    "print(\"Best Parameters for Random Forest:\", random_search.best_params_)\n",
    "print(f\"Tuned Random Forest Accuracy: {accuracy_score(y_test, y_pred_rf_best):.2f}\")\n"
   ]
  },
  {
   "cell_type": "markdown",
   "id": "4002d597",
   "metadata": {},
   "source": [
    "# Logistic Regression Model\n"
   ]
  },
  {
   "cell_type": "code",
   "execution_count": 5,
   "id": "5b087258",
   "metadata": {},
   "outputs": [
    {
     "name": "stdout",
     "output_type": "stream",
     "text": [
      "Logistic Regression Accuracy: 0.85\n",
      "Logistic Regression Classification Report:\n",
      "               precision    recall  f1-score   support\n",
      "\n",
      "           0       0.78      0.80      0.79      1394\n",
      "           1       0.96      0.97      0.96      1402\n",
      "           2       0.75      0.74      0.75      1407\n",
      "           3       0.85      0.86      0.86      1449\n",
      "           4       0.74      0.78      0.76      1357\n",
      "           5       0.93      0.93      0.93      1449\n",
      "           6       0.64      0.58      0.61      1407\n",
      "           7       0.90      0.94      0.92      1359\n",
      "           8       0.93      0.93      0.93      1342\n",
      "           9       0.96      0.94      0.95      1434\n",
      "\n",
      "    accuracy                           0.85     14000\n",
      "   macro avg       0.85      0.85      0.85     14000\n",
      "weighted avg       0.85      0.85      0.85     14000\n",
      "\n"
     ]
    },
    {
     "name": "stderr",
     "output_type": "stream",
     "text": [
      "D:\\ana\\Lib\\site-packages\\sklearn\\linear_model\\_logistic.py:458: ConvergenceWarning: lbfgs failed to converge (status=1):\n",
      "STOP: TOTAL NO. of ITERATIONS REACHED LIMIT.\n",
      "\n",
      "Increase the number of iterations (max_iter) or scale the data as shown in:\n",
      "    https://scikit-learn.org/stable/modules/preprocessing.html\n",
      "Please also refer to the documentation for alternative solver options:\n",
      "    https://scikit-learn.org/stable/modules/linear_model.html#logistic-regression\n",
      "  n_iter_i = _check_optimize_result(\n"
     ]
    }
   ],
   "source": [
    "from sklearn.linear_model import LogisticRegression\n",
    "\n",
    "lr_model = LogisticRegression(max_iter=200, random_state=42)\n",
    "lr_model.fit(X_train, y_train)\n",
    "\n",
    "y_pred_lr = lr_model.predict(X_test)\n",
    "print(f\"Logistic Regression Accuracy: {accuracy_score(y_test, y_pred_lr):.2f}\")\n",
    "print(\"Logistic Regression Classification Report:\\n\", classification_report(y_test, y_pred_lr))\n"
   ]
  },
  {
   "cell_type": "markdown",
   "id": "e16716c1",
   "metadata": {},
   "source": [
    "# Hyperparameter Tuning for logestic regression"
   ]
  },
  {
   "cell_type": "code",
   "execution_count": 4,
   "id": "330dc843",
   "metadata": {},
   "outputs": [
    {
     "name": "stderr",
     "output_type": "stream",
     "text": [
      "C:\\Users\\seife\\AppData\\Local\\Packages\\PythonSoftwareFoundation.Python.3.12_qbz5n2kfra8p0\\LocalCache\\local-packages\\Python312\\site-packages\\sklearn\\model_selection\\_search.py:320: UserWarning: The total space of parameters 2 is smaller than n_iter=3. Running 2 iterations. For exhaustive searches, use GridSearchCV.\n",
      "  warnings.warn(\n"
     ]
    },
    {
     "name": "stdout",
     "output_type": "stream",
     "text": [
      "Fitting 2 folds for each of 2 candidates, totalling 4 fits\n",
      "Best Parameters for Logistic Regression: {'solver': 'liblinear', 'penalty': 'l2', 'C': 0.1}\n",
      "Tuned Logistic Regression Accuracy: 0.83\n"
     ]
    }
   ],
   "source": [
    "from sklearn.linear_model import LogisticRegression\n",
    "from sklearn.model_selection import train_test_split\n",
    "from sklearn.metrics import accuracy_score \n",
    "from sklearn.model_selection import RandomizedSearchCV\n",
    "\n",
    "X_train_small, _, y_train_small, _ = train_test_split(X_train, y_train, test_size=0.8, random_state=42)\n",
    "\n",
    "param_dist_lr = {\n",
    "    'penalty': ['l2'],\n",
    "    'C': [0.1, 1],\n",
    "    'solver': ['liblinear']  \n",
    "}\n",
    "\n",
    "random_search_lr = RandomizedSearchCV(\n",
    "    LogisticRegression(random_state=42, max_iter=500), \n",
    "    param_distributions=param_dist_lr,\n",
    "    n_iter=3,  \n",
    "    cv=2,      \n",
    "    verbose=1,\n",
    "    random_state=42\n",
    ")\n",
    "\n",
    "random_search_lr.fit(X_train_small, y_train_small)\n",
    "\n",
    "best_lr_model = random_search_lr.best_estimator_\n",
    "y_pred_lr_best = best_lr_model.predict(X_test)\n",
    "\n",
    "print(\"Best Parameters for Logistic Regression:\", random_search_lr.best_params_)\n",
    "print(f\"Tuned Logistic Regression Accuracy: {accuracy_score(y_test, y_pred_lr_best):.2f}\")\n"
   ]
  },
  {
   "cell_type": "markdown",
   "id": "2b0ee355",
   "metadata": {},
   "source": [
    "# SVM Model\n"
   ]
  },
  {
   "cell_type": "code",
   "execution_count": 6,
   "id": "9c7de213",
   "metadata": {},
   "outputs": [
    {
     "name": "stdout",
     "output_type": "stream",
     "text": [
      "SVM Accuracy: 0.89\n",
      "SVM Classification Report:\n",
      "               precision    recall  f1-score   support\n",
      "\n",
      "           0       0.83      0.86      0.84      1394\n",
      "           1       1.00      0.97      0.98      1402\n",
      "           2       0.83      0.82      0.83      1407\n",
      "           3       0.88      0.91      0.89      1449\n",
      "           4       0.81      0.84      0.82      1357\n",
      "           5       0.97      0.96      0.96      1449\n",
      "           6       0.74      0.66      0.70      1407\n",
      "           7       0.93      0.96      0.95      1359\n",
      "           8       0.94      0.98      0.96      1342\n",
      "           9       0.97      0.95      0.96      1434\n",
      "\n",
      "    accuracy                           0.89     14000\n",
      "   macro avg       0.89      0.89      0.89     14000\n",
      "weighted avg       0.89      0.89      0.89     14000\n",
      "\n"
     ]
    }
   ],
   "source": [
    "from sklearn.svm import SVC\n",
    "from sklearn.metrics import classification_report\n",
    "\n",
    "svm_model = SVC(kernel='rbf', random_state=42)\n",
    "svm_model.fit(X_train, y_train)\n",
    "\n",
    "y_pred_svm = svm_model.predict(X_test)\n",
    "print(f\"SVM Accuracy: {accuracy_score(y_test, y_pred_svm):.2f}\")\n",
    "print(\"SVM Classification Report:\\n\", classification_report(y_test, y_pred_svm))\n"
   ]
  },
  {
   "cell_type": "code",
   "execution_count": 11,
   "id": "7f4531e4",
   "metadata": {},
   "outputs": [
    {
     "name": "stdout",
     "output_type": "stream",
     "text": [
      "SVM Classification Report:\n",
      "               precision    recall  f1-score   support\n",
      "\n",
      "           0       0.83      0.86      0.84      1394\n",
      "           1       1.00      0.97      0.98      1402\n",
      "           2       0.83      0.82      0.83      1407\n",
      "           3       0.88      0.91      0.89      1449\n",
      "           4       0.81      0.84      0.82      1357\n",
      "           5       0.97      0.96      0.96      1449\n",
      "           6       0.74      0.66      0.70      1407\n",
      "           7       0.93      0.96      0.95      1359\n",
      "           8       0.94      0.98      0.96      1342\n",
      "           9       0.97      0.95      0.96      1434\n",
      "\n",
      "    accuracy                           0.89     14000\n",
      "   macro avg       0.89      0.89      0.89     14000\n",
      "weighted avg       0.89      0.89      0.89     14000\n",
      "\n"
     ]
    }
   ],
   "source": [
    "from sklearn.metrics import classification_report\n",
    "print(\"SVM Classification Report:\\n\", classification_report(y_test, y_pred_svm))\n"
   ]
  },
  {
   "cell_type": "markdown",
   "id": "49d32845",
   "metadata": {},
   "source": [
    "# Hyperparameter Tuning for svm"
   ]
  },
  {
   "cell_type": "code",
   "execution_count": 4,
   "id": "3a3e2c8a",
   "metadata": {},
   "outputs": [
    {
     "name": "stdout",
     "output_type": "stream",
     "text": [
      "Fitting 2 folds for each of 5 candidates, totalling 10 fits\n",
      "Best Parameters for SVM: {'kernel': 'rbf', 'gamma': 'scale', 'C': 5}\n",
      "Tuned SVM Accuracy: 0.88\n"
     ]
    }
   ],
   "source": [
    "from sklearn.model_selection import RandomizedSearchCV, train_test_split\n",
    "from sklearn.svm import SVC\n",
    "from sklearn.metrics import accuracy_score\n",
    "\n",
    "X_train_small, _, y_train_small, _ = train_test_split(X_train, y_train, test_size=0.8, random_state=42)\n",
    "\n",
    "param_dist_svm = {\n",
    "    'C': [5, 10, 15, 20],  \n",
    "    'kernel': ['rbf', 'poly'], \n",
    "    'gamma': ['scale']           \n",
    "}\n",
    "\n",
    "\n",
    "random_search_svm = RandomizedSearchCV(\n",
    "    SVC(random_state=42),\n",
    "    param_distributions=param_dist_svm,\n",
    "    n_iter=5,  \n",
    "    cv=2,     \n",
    "    verbose=1,\n",
    "    random_state=42\n",
    ")\n",
    "\n",
    "random_search_svm.fit(X_train_small, y_train_small)\n",
    "\n",
    "best_svm_model = random_search_svm.best_estimator_\n",
    "y_pred_svm_best = best_svm_model.predict(X_test)\n",
    "\n",
    "print(\"Best Parameters for SVM:\", random_search_svm.best_params_)\n",
    "print(f\"Tuned SVM Accuracy: {accuracy_score(y_test, y_pred_svm_best):.2f}\")\n"
   ]
  },
  {
   "cell_type": "markdown",
   "id": "81d5ecb6",
   "metadata": {},
   "source": [
    "# save best model"
   ]
  },
  {
   "cell_type": "code",
   "execution_count": 12,
   "id": "ecae2744",
   "metadata": {},
   "outputs": [
    {
     "name": "stdout",
     "output_type": "stream",
     "text": [
      "Model saved as 'svm_model.pkl'\n"
     ]
    }
   ],
   "source": [
    "import joblib\n",
    "joblib.dump(svm_model, 'svm_model.pkl')\n",
    "print(\"Model saved as 'svm_model.pkl'\")\n",
    "\n"
   ]
  }
 ],
 "metadata": {
  "kernelspec": {
   "display_name": "Python 3",
   "language": "python",
   "name": "python3"
  },
  "language_info": {
   "codemirror_mode": {
    "name": "ipython",
    "version": 3
   },
   "file_extension": ".py",
   "mimetype": "text/x-python",
   "name": "python",
   "nbconvert_exporter": "python",
   "pygments_lexer": "ipython3",
   "version": "3.12.8"
  }
 },
 "nbformat": 4,
 "nbformat_minor": 5
}
